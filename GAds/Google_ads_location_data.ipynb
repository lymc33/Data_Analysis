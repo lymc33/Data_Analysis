{
  "nbformat": 4,
  "nbformat_minor": 0,
  "metadata": {
    "colab": {
      "name": "Google_ads_location_data.ipynb",
      "provenance": [],
      "collapsed_sections": [],
      "authorship_tag": "ABX9TyOqekKEgAGfAT9IfQWYN9rt",
      "include_colab_link": true
    },
    "kernelspec": {
      "name": "python3",
      "display_name": "Python 3"
    },
    "language_info": {
      "name": "python"
    }
  },
  "cells": [
    {
      "cell_type": "markdown",
      "metadata": {
        "id": "view-in-github",
        "colab_type": "text"
      },
      "source": [
        "<a href=\"https://colab.research.google.com/github/lymc33/Data_Analysis/blob/main/Google_ads_location_data.ipynb\" target=\"_parent\"><img src=\"https://colab.research.google.com/assets/colab-badge.svg\" alt=\"Open In Colab\"/></a>"
      ]
    },
    {
      "cell_type": "markdown",
      "source": [
        "### Xlsx to Google drive and make imports"
      ],
      "metadata": {
        "id": "5R5uZx-k7sDR"
      }
    },
    {
      "cell_type": "code",
      "source": [
        "from google.colab import drive\n",
        "drive.mount(\"/content/gdrive\")"
      ],
      "metadata": {
        "colab": {
          "base_uri": "https://localhost:8080/"
        },
        "id": "oZBTMFJL24tR",
        "outputId": "bcaf61b9-640d-48a6-e9ae-d5b6323840a0"
      },
      "execution_count": null,
      "outputs": [
        {
          "output_type": "stream",
          "name": "stdout",
          "text": [
            "Drive already mounted at /content/gdrive; to attempt to forcibly remount, call drive.mount(\"/content/gdrive\", force_remount=True).\n"
          ]
        }
      ]
    },
    {
      "cell_type": "code",
      "source": [
        "!pwd\n",
        "%cd \"/content/gdrive/MyDrive/Archivos para GIT\"\n",
        "!ls"
      ],
      "metadata": {
        "colab": {
          "base_uri": "https://localhost:8080/"
        },
        "id": "6XrwgyWP5VLh",
        "outputId": "46d94284-3e02-4221-ca30-a7b43828d2b4"
      },
      "execution_count": null,
      "outputs": [
        {
          "output_type": "stream",
          "name": "stdout",
          "text": [
            "/content\n",
            "/content/gdrive/MyDrive/Archivos para GIT\n",
            "'GAds Location Data.xlsx'\n"
          ]
        }
      ]
    },
    {
      "cell_type": "code",
      "source": [
        "import pandas as pd"
      ],
      "metadata": {
        "id": "VSu8jU6LzDuo"
      },
      "execution_count": null,
      "outputs": []
    },
    {
      "cell_type": "code",
      "source": [
        "df = pd.read_excel(\"/content/gdrive/MyDrive/Archivos para GIT/GAds Location Data.xlsx\")"
      ],
      "metadata": {
        "id": "XoOXMw5Q5lGE"
      },
      "execution_count": null,
      "outputs": []
    },
    {
      "cell_type": "markdown",
      "source": [
        "### Data cleaning"
      ],
      "metadata": {
        "id": "wJxKLau_7b1d"
      }
    },
    {
      "cell_type": "code",
      "source": [
        "list(df.columns)"
      ],
      "metadata": {
        "colab": {
          "base_uri": "https://localhost:8080/"
        },
        "id": "9zkz5Ow7EZgO",
        "outputId": "9fa0e737-375c-4422-b7d6-ec9331ba03e4"
      },
      "execution_count": null,
      "outputs": [
        {
          "output_type": "execute_result",
          "data": {
            "text/plain": [
              "['City (User location)',\n",
              " 'Leads',\n",
              " 'Purhchases',\n",
              " 'Qualified Lead_All conv.',\n",
              " 'Unqualified Lead_All conv.',\n",
              " 'Cost',\n",
              " 'Purchase Value',\n",
              " 'CPL',\n",
              " 'CPA',\n",
              " 'leads 2 purchase']"
            ]
          },
          "metadata": {},
          "execution_count": 5
        }
      ]
    },
    {
      "cell_type": "code",
      "source": [
        "# Rename without spaces\n",
        "df.columns = [c.replace(' ', '_') for c in df.columns]"
      ],
      "metadata": {
        "id": "VkDqZqdyHt69"
      },
      "execution_count": null,
      "outputs": []
    },
    {
      "cell_type": "code",
      "source": [
        "list(df.columns)"
      ],
      "metadata": {
        "colab": {
          "base_uri": "https://localhost:8080/"
        },
        "id": "V_OkSTY9IftN",
        "outputId": "35f4ef43-7761-486d-c3ba-a5cc16fbac7f"
      },
      "execution_count": null,
      "outputs": [
        {
          "output_type": "execute_result",
          "data": {
            "text/plain": [
              "['City_(User_location)',\n",
              " 'Leads',\n",
              " 'Purhchases',\n",
              " 'Qualified_Lead_All_conv.',\n",
              " 'Unqualified_Lead_All_conv.',\n",
              " 'Cost',\n",
              " 'Purchase_Value',\n",
              " 'CPL',\n",
              " 'CPA',\n",
              " 'leads_2_purchase']"
            ]
          },
          "metadata": {},
          "execution_count": 7
        }
      ]
    },
    {
      "cell_type": "code",
      "source": [
        "df.shape"
      ],
      "metadata": {
        "colab": {
          "base_uri": "https://localhost:8080/"
        },
        "id": "eQQRUrpUBydv",
        "outputId": "42c6c810-7721-4a16-c37a-6b6bf44c37e8"
      },
      "execution_count": null,
      "outputs": [
        {
          "output_type": "execute_result",
          "data": {
            "text/plain": [
              "(437, 10)"
            ]
          },
          "metadata": {},
          "execution_count": 8
        }
      ]
    },
    {
      "cell_type": "code",
      "source": [
        "#Data visualization\n",
        "df.head()"
      ],
      "metadata": {
        "colab": {
          "base_uri": "https://localhost:8080/",
          "height": 268
        },
        "id": "xsD6qnzJ5uR_",
        "outputId": "6703d029-72a5-4cdd-e375-f5a0e5399d7c"
      },
      "execution_count": null,
      "outputs": [
        {
          "output_type": "execute_result",
          "data": {
            "text/plain": [
              "  City_(User_location)  Leads  Purhchases  Qualified_Lead_All_conv.  \\\n",
              "0               Abohar    0.0         0.0                       0.0   \n",
              "1            Abu Dhabi    0.0         0.0                       0.0   \n",
              "2                Adoni    0.0         0.0                       0.0   \n",
              "3             Badlapur    0.0         0.0                       0.0   \n",
              "4               Barshi    0.0         0.0                       0.0   \n",
              "\n",
              "   Unqualified_Lead_All_conv.    Cost  Purchase_Value  CPL  CPA  \\\n",
              "0                         0.0  287.88             0.0  NaN  NaN   \n",
              "1                         0.0  441.16             0.0  NaN  NaN   \n",
              "2                         1.0   24.18             0.0  NaN  NaN   \n",
              "3                         0.0  575.12             0.0  NaN  NaN   \n",
              "4                         0.0  128.40             0.0  NaN  NaN   \n",
              "\n",
              "   leads_2_purchase  \n",
              "0               NaN  \n",
              "1               NaN  \n",
              "2               NaN  \n",
              "3               NaN  \n",
              "4               NaN  "
            ],
            "text/html": [
              "\n",
              "  <div id=\"df-2ef32b06-3e5e-454d-ad5e-4b94ad0448dc\">\n",
              "    <div class=\"colab-df-container\">\n",
              "      <div>\n",
              "<style scoped>\n",
              "    .dataframe tbody tr th:only-of-type {\n",
              "        vertical-align: middle;\n",
              "    }\n",
              "\n",
              "    .dataframe tbody tr th {\n",
              "        vertical-align: top;\n",
              "    }\n",
              "\n",
              "    .dataframe thead th {\n",
              "        text-align: right;\n",
              "    }\n",
              "</style>\n",
              "<table border=\"1\" class=\"dataframe\">\n",
              "  <thead>\n",
              "    <tr style=\"text-align: right;\">\n",
              "      <th></th>\n",
              "      <th>City_(User_location)</th>\n",
              "      <th>Leads</th>\n",
              "      <th>Purhchases</th>\n",
              "      <th>Qualified_Lead_All_conv.</th>\n",
              "      <th>Unqualified_Lead_All_conv.</th>\n",
              "      <th>Cost</th>\n",
              "      <th>Purchase_Value</th>\n",
              "      <th>CPL</th>\n",
              "      <th>CPA</th>\n",
              "      <th>leads_2_purchase</th>\n",
              "    </tr>\n",
              "  </thead>\n",
              "  <tbody>\n",
              "    <tr>\n",
              "      <th>0</th>\n",
              "      <td>Abohar</td>\n",
              "      <td>0.0</td>\n",
              "      <td>0.0</td>\n",
              "      <td>0.0</td>\n",
              "      <td>0.0</td>\n",
              "      <td>287.88</td>\n",
              "      <td>0.0</td>\n",
              "      <td>NaN</td>\n",
              "      <td>NaN</td>\n",
              "      <td>NaN</td>\n",
              "    </tr>\n",
              "    <tr>\n",
              "      <th>1</th>\n",
              "      <td>Abu Dhabi</td>\n",
              "      <td>0.0</td>\n",
              "      <td>0.0</td>\n",
              "      <td>0.0</td>\n",
              "      <td>0.0</td>\n",
              "      <td>441.16</td>\n",
              "      <td>0.0</td>\n",
              "      <td>NaN</td>\n",
              "      <td>NaN</td>\n",
              "      <td>NaN</td>\n",
              "    </tr>\n",
              "    <tr>\n",
              "      <th>2</th>\n",
              "      <td>Adoni</td>\n",
              "      <td>0.0</td>\n",
              "      <td>0.0</td>\n",
              "      <td>0.0</td>\n",
              "      <td>1.0</td>\n",
              "      <td>24.18</td>\n",
              "      <td>0.0</td>\n",
              "      <td>NaN</td>\n",
              "      <td>NaN</td>\n",
              "      <td>NaN</td>\n",
              "    </tr>\n",
              "    <tr>\n",
              "      <th>3</th>\n",
              "      <td>Badlapur</td>\n",
              "      <td>0.0</td>\n",
              "      <td>0.0</td>\n",
              "      <td>0.0</td>\n",
              "      <td>0.0</td>\n",
              "      <td>575.12</td>\n",
              "      <td>0.0</td>\n",
              "      <td>NaN</td>\n",
              "      <td>NaN</td>\n",
              "      <td>NaN</td>\n",
              "    </tr>\n",
              "    <tr>\n",
              "      <th>4</th>\n",
              "      <td>Barshi</td>\n",
              "      <td>0.0</td>\n",
              "      <td>0.0</td>\n",
              "      <td>0.0</td>\n",
              "      <td>0.0</td>\n",
              "      <td>128.40</td>\n",
              "      <td>0.0</td>\n",
              "      <td>NaN</td>\n",
              "      <td>NaN</td>\n",
              "      <td>NaN</td>\n",
              "    </tr>\n",
              "  </tbody>\n",
              "</table>\n",
              "</div>\n",
              "      <button class=\"colab-df-convert\" onclick=\"convertToInteractive('df-2ef32b06-3e5e-454d-ad5e-4b94ad0448dc')\"\n",
              "              title=\"Convert this dataframe to an interactive table.\"\n",
              "              style=\"display:none;\">\n",
              "        \n",
              "  <svg xmlns=\"http://www.w3.org/2000/svg\" height=\"24px\"viewBox=\"0 0 24 24\"\n",
              "       width=\"24px\">\n",
              "    <path d=\"M0 0h24v24H0V0z\" fill=\"none\"/>\n",
              "    <path d=\"M18.56 5.44l.94 2.06.94-2.06 2.06-.94-2.06-.94-.94-2.06-.94 2.06-2.06.94zm-11 1L8.5 8.5l.94-2.06 2.06-.94-2.06-.94L8.5 2.5l-.94 2.06-2.06.94zm10 10l.94 2.06.94-2.06 2.06-.94-2.06-.94-.94-2.06-.94 2.06-2.06.94z\"/><path d=\"M17.41 7.96l-1.37-1.37c-.4-.4-.92-.59-1.43-.59-.52 0-1.04.2-1.43.59L10.3 9.45l-7.72 7.72c-.78.78-.78 2.05 0 2.83L4 21.41c.39.39.9.59 1.41.59.51 0 1.02-.2 1.41-.59l7.78-7.78 2.81-2.81c.8-.78.8-2.07 0-2.86zM5.41 20L4 18.59l7.72-7.72 1.47 1.35L5.41 20z\"/>\n",
              "  </svg>\n",
              "      </button>\n",
              "      \n",
              "  <style>\n",
              "    .colab-df-container {\n",
              "      display:flex;\n",
              "      flex-wrap:wrap;\n",
              "      gap: 12px;\n",
              "    }\n",
              "\n",
              "    .colab-df-convert {\n",
              "      background-color: #E8F0FE;\n",
              "      border: none;\n",
              "      border-radius: 50%;\n",
              "      cursor: pointer;\n",
              "      display: none;\n",
              "      fill: #1967D2;\n",
              "      height: 32px;\n",
              "      padding: 0 0 0 0;\n",
              "      width: 32px;\n",
              "    }\n",
              "\n",
              "    .colab-df-convert:hover {\n",
              "      background-color: #E2EBFA;\n",
              "      box-shadow: 0px 1px 2px rgba(60, 64, 67, 0.3), 0px 1px 3px 1px rgba(60, 64, 67, 0.15);\n",
              "      fill: #174EA6;\n",
              "    }\n",
              "\n",
              "    [theme=dark] .colab-df-convert {\n",
              "      background-color: #3B4455;\n",
              "      fill: #D2E3FC;\n",
              "    }\n",
              "\n",
              "    [theme=dark] .colab-df-convert:hover {\n",
              "      background-color: #434B5C;\n",
              "      box-shadow: 0px 1px 3px 1px rgba(0, 0, 0, 0.15);\n",
              "      filter: drop-shadow(0px 1px 2px rgba(0, 0, 0, 0.3));\n",
              "      fill: #FFFFFF;\n",
              "    }\n",
              "  </style>\n",
              "\n",
              "      <script>\n",
              "        const buttonEl =\n",
              "          document.querySelector('#df-2ef32b06-3e5e-454d-ad5e-4b94ad0448dc button.colab-df-convert');\n",
              "        buttonEl.style.display =\n",
              "          google.colab.kernel.accessAllowed ? 'block' : 'none';\n",
              "\n",
              "        async function convertToInteractive(key) {\n",
              "          const element = document.querySelector('#df-2ef32b06-3e5e-454d-ad5e-4b94ad0448dc');\n",
              "          const dataTable =\n",
              "            await google.colab.kernel.invokeFunction('convertToInteractive',\n",
              "                                                     [key], {});\n",
              "          if (!dataTable) return;\n",
              "\n",
              "          const docLinkHtml = 'Like what you see? Visit the ' +\n",
              "            '<a target=\"_blank\" href=https://colab.research.google.com/notebooks/data_table.ipynb>data table notebook</a>'\n",
              "            + ' to learn more about interactive tables.';\n",
              "          element.innerHTML = '';\n",
              "          dataTable['output_type'] = 'display_data';\n",
              "          await google.colab.output.renderOutput(dataTable, element);\n",
              "          const docLink = document.createElement('div');\n",
              "          docLink.innerHTML = docLinkHtml;\n",
              "          element.appendChild(docLink);\n",
              "        }\n",
              "      </script>\n",
              "    </div>\n",
              "  </div>\n",
              "  "
            ]
          },
          "metadata": {},
          "execution_count": 9
        }
      ]
    },
    {
      "cell_type": "code",
      "source": [
        "# Fill NaN to 0 and delete no leads and no purchases\n",
        "df=df.fillna(0)\n",
        "df = df[df.Leads != 0]\n",
        "df = df[df.Purchase_Value != 0]\n",
        "df.shape"
      ],
      "metadata": {
        "colab": {
          "base_uri": "https://localhost:8080/"
        },
        "id": "gGixzOSr6Qm7",
        "outputId": "aa538970-38c8-4f1e-a2df-2f374d87d988"
      },
      "execution_count": null,
      "outputs": [
        {
          "output_type": "execute_result",
          "data": {
            "text/plain": [
              "(57, 10)"
            ]
          },
          "metadata": {},
          "execution_count": 10
        }
      ]
    },
    {
      "cell_type": "markdown",
      "source": [
        "### Proposals for Best places (PB)"
      ],
      "metadata": {
        "id": "pdWp51XELiq2"
      }
    },
    {
      "cell_type": "markdown",
      "source": [
        "### BP 1"
      ],
      "metadata": {
        "id": "SdQjZLP6cNu-"
      }
    },
    {
      "cell_type": "code",
      "source": [
        "# Calculate relation between Cost and Purchase values for rentability\n",
        "df[\"C/P\"] = df['Cost'] / df['Purchase_Value']"
      ],
      "metadata": {
        "id": "TtoU2B8JPeEV"
      },
      "execution_count": null,
      "outputs": []
    },
    {
      "cell_type": "code",
      "source": [
        "BP1=df\n",
        "BP1.shape"
      ],
      "metadata": {
        "colab": {
          "base_uri": "https://localhost:8080/"
        },
        "id": "0zS9ha9WSfSF",
        "outputId": "e82b1b81-1f21-48df-d47a-0213df211115"
      },
      "execution_count": null,
      "outputs": [
        {
          "output_type": "execute_result",
          "data": {
            "text/plain": [
              "(57, 11)"
            ]
          },
          "metadata": {},
          "execution_count": 12
        }
      ]
    },
    {
      "cell_type": "markdown",
      "source": [
        "### BP 2"
      ],
      "metadata": {
        "id": "1i8nyP_JcgRR"
      }
    },
    {
      "cell_type": "code",
      "source": [
        "Max_value = df[\"C/P\"].loc[df[\"C/P\"].idxmax()]     \n",
        "print(Max_value)"
      ],
      "metadata": {
        "colab": {
          "base_uri": "https://localhost:8080/"
        },
        "id": "Vv4a0kW-SfYH",
        "outputId": "bc2cfe34-27af-4b95-c95c-7f4fa6ee38bc"
      },
      "execution_count": null,
      "outputs": [
        {
          "output_type": "stream",
          "name": "stdout",
          "text": [
            "23.440825\n"
          ]
        }
      ]
    },
    {
      "cell_type": "code",
      "source": [
        "Min_value = df[\"C/P\"].loc[df[\"C/P\"].idxmin()]      \n",
        "print(Min_value)"
      ],
      "metadata": {
        "colab": {
          "base_uri": "https://localhost:8080/"
        },
        "id": "rSZ1Ypm-Sfdl",
        "outputId": "7aeab004-0ac6-4abf-d59b-3137512bdb6a"
      },
      "execution_count": null,
      "outputs": [
        {
          "output_type": "stream",
          "name": "stdout",
          "text": [
            "0.001571142857142857\n"
          ]
        }
      ]
    },
    {
      "cell_type": "code",
      "source": [
        "Mean_value = df[\"C/P\"].mean()\n",
        "print(Mean_value)"
      ],
      "metadata": {
        "colab": {
          "base_uri": "https://localhost:8080/"
        },
        "id": "3SaFEEAvTezF",
        "outputId": "cd42f46e-8492-4e54-bc59-3ac1d95ca09d"
      },
      "execution_count": null,
      "outputs": [
        {
          "output_type": "stream",
          "name": "stdout",
          "text": [
            "0.8078862908994567\n"
          ]
        }
      ]
    },
    {
      "cell_type": "code",
      "source": [
        "BP2 = df[df[\"C/P\"] >= Mean_value]\n",
        "BP2.shape"
      ],
      "metadata": {
        "colab": {
          "base_uri": "https://localhost:8080/"
        },
        "id": "s6jeLGCHXdbv",
        "outputId": "c9c2a0e4-99f4-4bc6-f0da-d7151a7aa111"
      },
      "execution_count": null,
      "outputs": [
        {
          "output_type": "execute_result",
          "data": {
            "text/plain": [
              "(9, 11)"
            ]
          },
          "metadata": {},
          "execution_count": 16
        }
      ]
    },
    {
      "cell_type": "markdown",
      "source": [
        "### BP 3"
      ],
      "metadata": {
        "id": "0ejHnDusclV5"
      }
    },
    {
      "cell_type": "code",
      "source": [
        "# Calculate relation between Cost and Purchase values per lead\n",
        "df[\"C/P_lead\"] = df[\"C/P\"] / df['Leads']\n",
        "df.shape"
      ],
      "metadata": {
        "colab": {
          "base_uri": "https://localhost:8080/"
        },
        "id": "VLDnXOi3cs5V",
        "outputId": "a6eb6b4c-9fe8-4fd5-ff6e-84065aaac736"
      },
      "execution_count": null,
      "outputs": [
        {
          "output_type": "execute_result",
          "data": {
            "text/plain": [
              "(57, 12)"
            ]
          },
          "metadata": {},
          "execution_count": 17
        }
      ]
    },
    {
      "cell_type": "code",
      "source": [
        "Max_value2 = df[\"C/P_lead\"].loc[df[\"C/P_lead\"].idxmax()]      \n",
        "print(Max_value2)"
      ],
      "metadata": {
        "colab": {
          "base_uri": "https://localhost:8080/"
        },
        "id": "mMFbG6PDeBBX",
        "outputId": "d2896c3a-ac5d-4f34-b73c-b9ca1eb8bb06"
      },
      "execution_count": null,
      "outputs": [
        {
          "output_type": "stream",
          "name": "stdout",
          "text": [
            "0.2757744117647059\n"
          ]
        }
      ]
    },
    {
      "cell_type": "code",
      "source": [
        "Min_value2 = df[\"C/P_lead\"].loc[df[\"C/P_lead\"].idxmin()]     \n",
        "print(Min_value2)"
      ],
      "metadata": {
        "colab": {
          "base_uri": "https://localhost:8080/"
        },
        "id": "pDe2QsereIvl",
        "outputId": "1573eb11-2107-4191-ed1c-1bd322d422df"
      },
      "execution_count": null,
      "outputs": [
        {
          "output_type": "stream",
          "name": "stdout",
          "text": [
            "0.0006897591138832132\n"
          ]
        }
      ]
    },
    {
      "cell_type": "code",
      "source": [
        "Mean_value2 = df[\"C/P_lead\"].mean()\n",
        "print(Mean_value2)"
      ],
      "metadata": {
        "colab": {
          "base_uri": "https://localhost:8080/"
        },
        "id": "89CeQkhvelUk",
        "outputId": "42617ef7-6cbb-4a95-be05-7887df640700"
      },
      "execution_count": null,
      "outputs": [
        {
          "output_type": "stream",
          "name": "stdout",
          "text": [
            "0.02463517035838658\n"
          ]
        }
      ]
    },
    {
      "cell_type": "code",
      "source": [
        "BP3 = df[df[\"C/P_lead\"] >= Mean_value2]\n",
        "BP3.shape"
      ],
      "metadata": {
        "colab": {
          "base_uri": "https://localhost:8080/"
        },
        "id": "3p0XLM5Le4Lr",
        "outputId": "59bc8008-2876-467d-8f87-efc3110bb205"
      },
      "execution_count": null,
      "outputs": [
        {
          "output_type": "execute_result",
          "data": {
            "text/plain": [
              "(21, 12)"
            ]
          },
          "metadata": {},
          "execution_count": 21
        }
      ]
    },
    {
      "cell_type": "markdown",
      "source": [
        "### Results"
      ],
      "metadata": {
        "id": "otZhB3XUZmXx"
      }
    },
    {
      "cell_type": "code",
      "source": [
        "# Best places 1, only purchases (57 countries)\n",
        "BP1['City_(User_location)'].tolist()"
      ],
      "metadata": {
        "colab": {
          "base_uri": "https://localhost:8080/"
        },
        "id": "g8fmzGDXZpxo",
        "outputId": "4d282c8b-1e9c-4cdc-a7ef-57844f9ace13"
      },
      "execution_count": null,
      "outputs": [
        {
          "output_type": "execute_result",
          "data": {
            "text/plain": [
              "['Kumily',\n",
              " 'Jalna',\n",
              " 'Satna',\n",
              " 'Shamli',\n",
              " 'Tanda Range',\n",
              " 'Hazaribagh',\n",
              " 'Nilje Gaon',\n",
              " 'Rajahmundry',\n",
              " 'Motihari',\n",
              " 'Jagdalpur',\n",
              " 'Bhagalpur',\n",
              " 'Bhilai',\n",
              " 'Mirzapur',\n",
              " 'Nagaur',\n",
              " 'Purnia',\n",
              " 'Rohtak',\n",
              " 'Tiruppur',\n",
              " 'Udupi',\n",
              " 'Asansol',\n",
              " 'Bhiwani',\n",
              " 'Panchkula',\n",
              " 'Puducherry',\n",
              " 'Hisar',\n",
              " 'Kottayam',\n",
              " 'Kanpur',\n",
              " 'Mira Bhayandar',\n",
              " 'Thane',\n",
              " 'Pimpri-Chinchwad',\n",
              " 'Madurai',\n",
              " 'Udaipur',\n",
              " 'Hyderabad',\n",
              " 'Faridabad',\n",
              " 'Mysuru',\n",
              " 'Ghaziabad',\n",
              " 'Patna',\n",
              " 'Noida',\n",
              " 'Gurgaon',\n",
              " 'Navi Mumbai',\n",
              " 'Ludhiana',\n",
              " 'Bengaluru',\n",
              " 'Chennai',\n",
              " 'Chandigarh',\n",
              " 'Mumbai',\n",
              " 'Kolkata',\n",
              " 'Pune',\n",
              " 'New Delhi',\n",
              " 'Coimbatore',\n",
              " 'Karnal',\n",
              " 'Bhopal',\n",
              " 'Bhubaneswar',\n",
              " 'Varanasi',\n",
              " 'Ahmedabad',\n",
              " 'Delhi',\n",
              " 'Lucknow',\n",
              " 'Indore',\n",
              " 'Jalgaon',\n",
              " 'Jaipur']"
            ]
          },
          "metadata": {},
          "execution_count": 22
        }
      ]
    },
    {
      "cell_type": "code",
      "source": [
        "# Best place 2, Cost and Purchase values for rentability(9 countries)\n",
        "BP2['City_(User_location)'].tolist()"
      ],
      "metadata": {
        "colab": {
          "base_uri": "https://localhost:8080/"
        },
        "id": "_4r32Dg3Zr5c",
        "outputId": "7946cbe9-d4b9-4a24-c722-1c8ed2d137c7"
      },
      "execution_count": null,
      "outputs": [
        {
          "output_type": "execute_result",
          "data": {
            "text/plain": [
              "['Faridabad',\n",
              " 'Patna',\n",
              " 'Chennai',\n",
              " 'Chandigarh',\n",
              " 'Pune',\n",
              " 'Delhi',\n",
              " 'Lucknow',\n",
              " 'Indore',\n",
              " 'Jaipur']"
            ]
          },
          "metadata": {},
          "execution_count": 23
        }
      ]
    },
    {
      "cell_type": "code",
      "source": [
        "# Best place 3, Cost and Purchase values per lead (21 countries)\n",
        "BP3['City_(User_location)'].tolist()"
      ],
      "metadata": {
        "colab": {
          "base_uri": "https://localhost:8080/"
        },
        "id": "Kyfi79pzfeMh",
        "outputId": "43661088-cc51-42fb-9e7e-92b057f3ec92"
      },
      "execution_count": null,
      "outputs": [
        {
          "output_type": "execute_result",
          "data": {
            "text/plain": [
              "['Jalna',\n",
              " 'Satna',\n",
              " 'Hazaribagh',\n",
              " 'Bhilai',\n",
              " 'Purnia',\n",
              " 'Rohtak',\n",
              " 'Tiruppur',\n",
              " 'Udupi',\n",
              " 'Asansol',\n",
              " 'Bhiwani',\n",
              " 'Panchkula',\n",
              " 'Hisar',\n",
              " 'Kottayam',\n",
              " 'Faridabad',\n",
              " 'Mysuru',\n",
              " 'Patna',\n",
              " 'Chandigarh',\n",
              " 'Coimbatore',\n",
              " 'Indore',\n",
              " 'Jalgaon',\n",
              " 'Jaipur']"
            ]
          },
          "metadata": {},
          "execution_count": 24
        }
      ]
    }
  ]
}
