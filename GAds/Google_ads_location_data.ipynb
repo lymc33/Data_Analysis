{
  "nbformat": 4,
  "nbformat_minor": 0,
  "metadata": {
    "colab": {
      "name": "Google_ads_location_data.ipynb",
      "provenance": [],
      "collapsed_sections": [],
      "authorship_tag": "ABX9TyMuQXUuRV+n2bTUoUzdfTrO",
      "include_colab_link": true
    },
    "kernelspec": {
      "name": "python3",
      "display_name": "Python 3"
    },
    "language_info": {
      "name": "python"
    }
  },
  "cells": [
    {
      "cell_type": "markdown",
      "metadata": {
        "id": "view-in-github",
        "colab_type": "text"
      },
      "source": [
        "<a href=\"https://colab.research.google.com/github/lymc33/Data_Analysis/blob/main/GAds/Google_ads_location_data.ipynb\" target=\"_parent\"><img src=\"https://colab.research.google.com/assets/colab-badge.svg\" alt=\"Open In Colab\"/></a>"
      ]
    },
    {
      "cell_type": "markdown",
      "source": [
        "### Xlsx to Google drive and make imports"
      ],
      "metadata": {
        "id": "5R5uZx-k7sDR"
      }
    },
    {
      "cell_type": "code",
      "source": [
        "from google.colab import drive\n",
        "drive.mount(\"/content/gdrive\")"
      ],
      "metadata": {
        "colab": {
          "base_uri": "https://localhost:8080/"
        },
        "id": "oZBTMFJL24tR",
        "outputId": "7397c63f-f549-4373-9905-5c148d7f63ae"
      },
      "execution_count": 1,
      "outputs": [
        {
          "output_type": "stream",
          "name": "stdout",
          "text": [
            "Mounted at /content/gdrive\n"
          ]
        }
      ]
    },
    {
      "cell_type": "code",
      "source": [
        "!pwd\n",
        "%cd \"/content/gdrive/MyDrive/Archivos para GIT\"\n",
        "!ls"
      ],
      "metadata": {
        "colab": {
          "base_uri": "https://localhost:8080/"
        },
        "id": "6XrwgyWP5VLh",
        "outputId": "d09d4997-e07a-4171-d1c8-1e808435ea63"
      },
      "execution_count": 2,
      "outputs": [
        {
          "output_type": "stream",
          "name": "stdout",
          "text": [
            "/content\n",
            "/content/gdrive/MyDrive/Archivos para GIT\n",
            "'GAds Location Data.xlsx'\n"
          ]
        }
      ]
    },
    {
      "cell_type": "code",
      "source": [
        "import pandas as pd"
      ],
      "metadata": {
        "id": "VSu8jU6LzDuo"
      },
      "execution_count": 3,
      "outputs": []
    },
    {
      "cell_type": "code",
      "source": [
        "df = pd.read_excel(\"/content/gdrive/MyDrive/Archivos para GIT/GAds Location Data.xlsx\")"
      ],
      "metadata": {
        "id": "XoOXMw5Q5lGE"
      },
      "execution_count": 4,
      "outputs": []
    },
    {
      "cell_type": "markdown",
      "source": [
        "### Data cleaning"
      ],
      "metadata": {
        "id": "wJxKLau_7b1d"
      }
    },
    {
      "cell_type": "code",
      "source": [
        "list(df.columns)"
      ],
      "metadata": {
        "colab": {
          "base_uri": "https://localhost:8080/"
        },
        "id": "9zkz5Ow7EZgO",
        "outputId": "47aea1c0-a3ed-47ab-eccc-61955ddee4a4"
      },
      "execution_count": 5,
      "outputs": [
        {
          "output_type": "execute_result",
          "data": {
            "text/plain": [
              "['City (User location)',\n",
              " 'Leads',\n",
              " 'Purhchases',\n",
              " 'Qualified Lead_All conv.',\n",
              " 'Unqualified Lead_All conv.',\n",
              " 'Cost',\n",
              " 'Purchase Value',\n",
              " 'CPL',\n",
              " 'CPA',\n",
              " 'leads 2 purchase']"
            ]
          },
          "metadata": {},
          "execution_count": 5
        }
      ]
    },
    {
      "cell_type": "code",
      "source": [
        "# Rename without spaces\n",
        "df.columns = [c.replace(' ', '_') for c in df.columns]"
      ],
      "metadata": {
        "id": "VkDqZqdyHt69"
      },
      "execution_count": 6,
      "outputs": []
    },
    {
      "cell_type": "code",
      "source": [
        "list(df.columns)"
      ],
      "metadata": {
        "colab": {
          "base_uri": "https://localhost:8080/"
        },
        "id": "V_OkSTY9IftN",
        "outputId": "0bc1f67a-4d97-47a4-e3c6-5f5e0bb24222"
      },
      "execution_count": 7,
      "outputs": [
        {
          "output_type": "execute_result",
          "data": {
            "text/plain": [
              "['City_(User_location)',\n",
              " 'Leads',\n",
              " 'Purhchases',\n",
              " 'Qualified_Lead_All_conv.',\n",
              " 'Unqualified_Lead_All_conv.',\n",
              " 'Cost',\n",
              " 'Purchase_Value',\n",
              " 'CPL',\n",
              " 'CPA',\n",
              " 'leads_2_purchase']"
            ]
          },
          "metadata": {},
          "execution_count": 7
        }
      ]
    },
    {
      "cell_type": "code",
      "source": [
        "df.shape"
      ],
      "metadata": {
        "colab": {
          "base_uri": "https://localhost:8080/"
        },
        "id": "eQQRUrpUBydv",
        "outputId": "ade80035-8238-4d0e-a9c9-a42ae53aca0a"
      },
      "execution_count": 8,
      "outputs": [
        {
          "output_type": "execute_result",
          "data": {
            "text/plain": [
              "(437, 10)"
            ]
          },
          "metadata": {},
          "execution_count": 8
        }
      ]
    },
    {
      "cell_type": "code",
      "source": [
        "#Data visualization\n",
        "df.head()"
      ],
      "metadata": {
        "colab": {
          "base_uri": "https://localhost:8080/",
          "height": 248
        },
        "id": "xsD6qnzJ5uR_",
        "outputId": "c0216e52-e22a-4737-e2f5-4347d95d33b9"
      },
      "execution_count": 9,
      "outputs": [
        {
          "output_type": "execute_result",
          "data": {
            "text/plain": [
              "  City_(User_location)  Leads  Purhchases  Qualified_Lead_All_conv.  \\\n",
              "0               Abohar    0.0         0.0                       0.0   \n",
              "1            Abu Dhabi    0.0         0.0                       0.0   \n",
              "2                Adoni    0.0         0.0                       0.0   \n",
              "3             Badlapur    0.0         0.0                       0.0   \n",
              "4               Barshi    0.0         0.0                       0.0   \n",
              "\n",
              "   Unqualified_Lead_All_conv.    Cost  Purchase_Value  CPL  CPA  \\\n",
              "0                         0.0  287.88             0.0  NaN  NaN   \n",
              "1                         0.0  441.16             0.0  NaN  NaN   \n",
              "2                         1.0   24.18             0.0  NaN  NaN   \n",
              "3                         0.0  575.12             0.0  NaN  NaN   \n",
              "4                         0.0  128.40             0.0  NaN  NaN   \n",
              "\n",
              "   leads_2_purchase  \n",
              "0               NaN  \n",
              "1               NaN  \n",
              "2               NaN  \n",
              "3               NaN  \n",
              "4               NaN  "
            ],
            "text/html": [
              "\n",
              "  <div id=\"df-6f90ce4a-708c-4cb9-b333-5bfb716728ed\">\n",
              "    <div class=\"colab-df-container\">\n",
              "      <div>\n",
              "<style scoped>\n",
              "    .dataframe tbody tr th:only-of-type {\n",
              "        vertical-align: middle;\n",
              "    }\n",
              "\n",
              "    .dataframe tbody tr th {\n",
              "        vertical-align: top;\n",
              "    }\n",
              "\n",
              "    .dataframe thead th {\n",
              "        text-align: right;\n",
              "    }\n",
              "</style>\n",
              "<table border=\"1\" class=\"dataframe\">\n",
              "  <thead>\n",
              "    <tr style=\"text-align: right;\">\n",
              "      <th></th>\n",
              "      <th>City_(User_location)</th>\n",
              "      <th>Leads</th>\n",
              "      <th>Purhchases</th>\n",
              "      <th>Qualified_Lead_All_conv.</th>\n",
              "      <th>Unqualified_Lead_All_conv.</th>\n",
              "      <th>Cost</th>\n",
              "      <th>Purchase_Value</th>\n",
              "      <th>CPL</th>\n",
              "      <th>CPA</th>\n",
              "      <th>leads_2_purchase</th>\n",
              "    </tr>\n",
              "  </thead>\n",
              "  <tbody>\n",
              "    <tr>\n",
              "      <th>0</th>\n",
              "      <td>Abohar</td>\n",
              "      <td>0.0</td>\n",
              "      <td>0.0</td>\n",
              "      <td>0.0</td>\n",
              "      <td>0.0</td>\n",
              "      <td>287.88</td>\n",
              "      <td>0.0</td>\n",
              "      <td>NaN</td>\n",
              "      <td>NaN</td>\n",
              "      <td>NaN</td>\n",
              "    </tr>\n",
              "    <tr>\n",
              "      <th>1</th>\n",
              "      <td>Abu Dhabi</td>\n",
              "      <td>0.0</td>\n",
              "      <td>0.0</td>\n",
              "      <td>0.0</td>\n",
              "      <td>0.0</td>\n",
              "      <td>441.16</td>\n",
              "      <td>0.0</td>\n",
              "      <td>NaN</td>\n",
              "      <td>NaN</td>\n",
              "      <td>NaN</td>\n",
              "    </tr>\n",
              "    <tr>\n",
              "      <th>2</th>\n",
              "      <td>Adoni</td>\n",
              "      <td>0.0</td>\n",
              "      <td>0.0</td>\n",
              "      <td>0.0</td>\n",
              "      <td>1.0</td>\n",
              "      <td>24.18</td>\n",
              "      <td>0.0</td>\n",
              "      <td>NaN</td>\n",
              "      <td>NaN</td>\n",
              "      <td>NaN</td>\n",
              "    </tr>\n",
              "    <tr>\n",
              "      <th>3</th>\n",
              "      <td>Badlapur</td>\n",
              "      <td>0.0</td>\n",
              "      <td>0.0</td>\n",
              "      <td>0.0</td>\n",
              "      <td>0.0</td>\n",
              "      <td>575.12</td>\n",
              "      <td>0.0</td>\n",
              "      <td>NaN</td>\n",
              "      <td>NaN</td>\n",
              "      <td>NaN</td>\n",
              "    </tr>\n",
              "    <tr>\n",
              "      <th>4</th>\n",
              "      <td>Barshi</td>\n",
              "      <td>0.0</td>\n",
              "      <td>0.0</td>\n",
              "      <td>0.0</td>\n",
              "      <td>0.0</td>\n",
              "      <td>128.40</td>\n",
              "      <td>0.0</td>\n",
              "      <td>NaN</td>\n",
              "      <td>NaN</td>\n",
              "      <td>NaN</td>\n",
              "    </tr>\n",
              "  </tbody>\n",
              "</table>\n",
              "</div>\n",
              "      <button class=\"colab-df-convert\" onclick=\"convertToInteractive('df-6f90ce4a-708c-4cb9-b333-5bfb716728ed')\"\n",
              "              title=\"Convert this dataframe to an interactive table.\"\n",
              "              style=\"display:none;\">\n",
              "        \n",
              "  <svg xmlns=\"http://www.w3.org/2000/svg\" height=\"24px\"viewBox=\"0 0 24 24\"\n",
              "       width=\"24px\">\n",
              "    <path d=\"M0 0h24v24H0V0z\" fill=\"none\"/>\n",
              "    <path d=\"M18.56 5.44l.94 2.06.94-2.06 2.06-.94-2.06-.94-.94-2.06-.94 2.06-2.06.94zm-11 1L8.5 8.5l.94-2.06 2.06-.94-2.06-.94L8.5 2.5l-.94 2.06-2.06.94zm10 10l.94 2.06.94-2.06 2.06-.94-2.06-.94-.94-2.06-.94 2.06-2.06.94z\"/><path d=\"M17.41 7.96l-1.37-1.37c-.4-.4-.92-.59-1.43-.59-.52 0-1.04.2-1.43.59L10.3 9.45l-7.72 7.72c-.78.78-.78 2.05 0 2.83L4 21.41c.39.39.9.59 1.41.59.51 0 1.02-.2 1.41-.59l7.78-7.78 2.81-2.81c.8-.78.8-2.07 0-2.86zM5.41 20L4 18.59l7.72-7.72 1.47 1.35L5.41 20z\"/>\n",
              "  </svg>\n",
              "      </button>\n",
              "      \n",
              "  <style>\n",
              "    .colab-df-container {\n",
              "      display:flex;\n",
              "      flex-wrap:wrap;\n",
              "      gap: 12px;\n",
              "    }\n",
              "\n",
              "    .colab-df-convert {\n",
              "      background-color: #E8F0FE;\n",
              "      border: none;\n",
              "      border-radius: 50%;\n",
              "      cursor: pointer;\n",
              "      display: none;\n",
              "      fill: #1967D2;\n",
              "      height: 32px;\n",
              "      padding: 0 0 0 0;\n",
              "      width: 32px;\n",
              "    }\n",
              "\n",
              "    .colab-df-convert:hover {\n",
              "      background-color: #E2EBFA;\n",
              "      box-shadow: 0px 1px 2px rgba(60, 64, 67, 0.3), 0px 1px 3px 1px rgba(60, 64, 67, 0.15);\n",
              "      fill: #174EA6;\n",
              "    }\n",
              "\n",
              "    [theme=dark] .colab-df-convert {\n",
              "      background-color: #3B4455;\n",
              "      fill: #D2E3FC;\n",
              "    }\n",
              "\n",
              "    [theme=dark] .colab-df-convert:hover {\n",
              "      background-color: #434B5C;\n",
              "      box-shadow: 0px 1px 3px 1px rgba(0, 0, 0, 0.15);\n",
              "      filter: drop-shadow(0px 1px 2px rgba(0, 0, 0, 0.3));\n",
              "      fill: #FFFFFF;\n",
              "    }\n",
              "  </style>\n",
              "\n",
              "      <script>\n",
              "        const buttonEl =\n",
              "          document.querySelector('#df-6f90ce4a-708c-4cb9-b333-5bfb716728ed button.colab-df-convert');\n",
              "        buttonEl.style.display =\n",
              "          google.colab.kernel.accessAllowed ? 'block' : 'none';\n",
              "\n",
              "        async function convertToInteractive(key) {\n",
              "          const element = document.querySelector('#df-6f90ce4a-708c-4cb9-b333-5bfb716728ed');\n",
              "          const dataTable =\n",
              "            await google.colab.kernel.invokeFunction('convertToInteractive',\n",
              "                                                     [key], {});\n",
              "          if (!dataTable) return;\n",
              "\n",
              "          const docLinkHtml = 'Like what you see? Visit the ' +\n",
              "            '<a target=\"_blank\" href=https://colab.research.google.com/notebooks/data_table.ipynb>data table notebook</a>'\n",
              "            + ' to learn more about interactive tables.';\n",
              "          element.innerHTML = '';\n",
              "          dataTable['output_type'] = 'display_data';\n",
              "          await google.colab.output.renderOutput(dataTable, element);\n",
              "          const docLink = document.createElement('div');\n",
              "          docLink.innerHTML = docLinkHtml;\n",
              "          element.appendChild(docLink);\n",
              "        }\n",
              "      </script>\n",
              "    </div>\n",
              "  </div>\n",
              "  "
            ]
          },
          "metadata": {},
          "execution_count": 9
        }
      ]
    },
    {
      "cell_type": "code",
      "source": [
        "# Fill NaN to 0 and delete no leads and no purchases\n",
        "df=df.fillna(0)\n",
        "df = df[df.Leads != 0]\n",
        "df = df[df.Purchase_Value != 0]\n",
        "df.shape"
      ],
      "metadata": {
        "colab": {
          "base_uri": "https://localhost:8080/"
        },
        "id": "gGixzOSr6Qm7",
        "outputId": "2a615bc0-260f-4cfd-fbca-e4eacf73e91a"
      },
      "execution_count": 10,
      "outputs": [
        {
          "output_type": "execute_result",
          "data": {
            "text/plain": [
              "(57, 10)"
            ]
          },
          "metadata": {},
          "execution_count": 10
        }
      ]
    },
    {
      "cell_type": "markdown",
      "source": [
        "### Proposals for Best places (PB)"
      ],
      "metadata": {
        "id": "pdWp51XELiq2"
      }
    },
    {
      "cell_type": "markdown",
      "source": [
        "### BP 1"
      ],
      "metadata": {
        "id": "SdQjZLP6cNu-"
      }
    },
    {
      "cell_type": "code",
      "source": [
        "# Calculate relation between Cost and Purchase values for rentability\n",
        "df[\"C/P\"] = df['Cost'] / df['Purchase_Value']"
      ],
      "metadata": {
        "id": "TtoU2B8JPeEV"
      },
      "execution_count": 11,
      "outputs": []
    },
    {
      "cell_type": "code",
      "source": [
        "BP1=df\n",
        "BP1.shape"
      ],
      "metadata": {
        "colab": {
          "base_uri": "https://localhost:8080/"
        },
        "id": "0zS9ha9WSfSF",
        "outputId": "04520804-733e-406c-ba40-914202057128"
      },
      "execution_count": 12,
      "outputs": [
        {
          "output_type": "execute_result",
          "data": {
            "text/plain": [
              "(57, 11)"
            ]
          },
          "metadata": {},
          "execution_count": 12
        }
      ]
    },
    {
      "cell_type": "markdown",
      "source": [
        "### BP 2"
      ],
      "metadata": {
        "id": "1i8nyP_JcgRR"
      }
    },
    {
      "cell_type": "code",
      "source": [
        "Max_value = df[\"C/P\"].loc[df[\"C/P\"].idxmax()]     \n",
        "print(Max_value)"
      ],
      "metadata": {
        "colab": {
          "base_uri": "https://localhost:8080/"
        },
        "id": "Vv4a0kW-SfYH",
        "outputId": "d80e0247-0a84-47d3-df8a-20df67c5e205"
      },
      "execution_count": 13,
      "outputs": [
        {
          "output_type": "stream",
          "name": "stdout",
          "text": [
            "23.440825\n"
          ]
        }
      ]
    },
    {
      "cell_type": "code",
      "source": [
        "Min_value = df[\"C/P\"].loc[df[\"C/P\"].idxmin()]      \n",
        "print(Min_value)"
      ],
      "metadata": {
        "colab": {
          "base_uri": "https://localhost:8080/"
        },
        "id": "rSZ1Ypm-Sfdl",
        "outputId": "5b9dafc1-109a-4f39-d928-56e65531b741"
      },
      "execution_count": 14,
      "outputs": [
        {
          "output_type": "stream",
          "name": "stdout",
          "text": [
            "0.001571142857142857\n"
          ]
        }
      ]
    },
    {
      "cell_type": "code",
      "source": [
        "Mean_value = df[\"C/P\"].mean()\n",
        "print(Mean_value)"
      ],
      "metadata": {
        "colab": {
          "base_uri": "https://localhost:8080/"
        },
        "id": "3SaFEEAvTezF",
        "outputId": "8bb3d466-ebad-4856-92b3-6bfa0d98525a"
      },
      "execution_count": 15,
      "outputs": [
        {
          "output_type": "stream",
          "name": "stdout",
          "text": [
            "0.8078862908994567\n"
          ]
        }
      ]
    },
    {
      "cell_type": "code",
      "source": [
        "BP2 = df[df[\"C/P\"] >= Mean_value]\n",
        "BP2.shape"
      ],
      "metadata": {
        "colab": {
          "base_uri": "https://localhost:8080/"
        },
        "id": "s6jeLGCHXdbv",
        "outputId": "1971f6c5-2e45-4347-9077-4667e9aba334"
      },
      "execution_count": 16,
      "outputs": [
        {
          "output_type": "execute_result",
          "data": {
            "text/plain": [
              "(9, 11)"
            ]
          },
          "metadata": {},
          "execution_count": 16
        }
      ]
    },
    {
      "cell_type": "markdown",
      "source": [
        "### BP 3"
      ],
      "metadata": {
        "id": "0ejHnDusclV5"
      }
    },
    {
      "cell_type": "code",
      "source": [
        "# Calculate relation between Cost and Purchase values per lead\n",
        "df[\"C/P_lead\"] = df[\"C/P\"] / df['Leads']\n",
        "df.shape"
      ],
      "metadata": {
        "colab": {
          "base_uri": "https://localhost:8080/"
        },
        "id": "VLDnXOi3cs5V",
        "outputId": "75ab0125-0598-4150-e48e-de5292a905a3"
      },
      "execution_count": 17,
      "outputs": [
        {
          "output_type": "execute_result",
          "data": {
            "text/plain": [
              "(57, 12)"
            ]
          },
          "metadata": {},
          "execution_count": 17
        }
      ]
    },
    {
      "cell_type": "code",
      "source": [
        "Max_value2 = df[\"C/P_lead\"].loc[df[\"C/P_lead\"].idxmax()]      \n",
        "print(Max_value2)"
      ],
      "metadata": {
        "colab": {
          "base_uri": "https://localhost:8080/"
        },
        "id": "mMFbG6PDeBBX",
        "outputId": "03372399-b378-4962-cfe0-7966186fcb73"
      },
      "execution_count": 18,
      "outputs": [
        {
          "output_type": "stream",
          "name": "stdout",
          "text": [
            "0.2757744117647059\n"
          ]
        }
      ]
    },
    {
      "cell_type": "code",
      "source": [
        "Min_value2 = df[\"C/P_lead\"].loc[df[\"C/P_lead\"].idxmin()]     \n",
        "print(Min_value2)"
      ],
      "metadata": {
        "colab": {
          "base_uri": "https://localhost:8080/"
        },
        "id": "pDe2QsereIvl",
        "outputId": "041b777b-56d5-4105-91f8-4713de7d42aa"
      },
      "execution_count": 19,
      "outputs": [
        {
          "output_type": "stream",
          "name": "stdout",
          "text": [
            "0.0006897591138832132\n"
          ]
        }
      ]
    },
    {
      "cell_type": "code",
      "source": [
        "Mean_value2 = df[\"C/P_lead\"].mean()\n",
        "print(Mean_value2)"
      ],
      "metadata": {
        "colab": {
          "base_uri": "https://localhost:8080/"
        },
        "id": "89CeQkhvelUk",
        "outputId": "1f071767-93d2-456e-95a3-3a5dba3e25ca"
      },
      "execution_count": 20,
      "outputs": [
        {
          "output_type": "stream",
          "name": "stdout",
          "text": [
            "0.02463517035838658\n"
          ]
        }
      ]
    },
    {
      "cell_type": "code",
      "source": [
        "BP3 = df[df[\"C/P_lead\"] >= Mean_value2]\n",
        "BP3.shape"
      ],
      "metadata": {
        "colab": {
          "base_uri": "https://localhost:8080/"
        },
        "id": "3p0XLM5Le4Lr",
        "outputId": "f6ece8bd-d0b1-4b42-b69a-0fd7722e855b"
      },
      "execution_count": 21,
      "outputs": [
        {
          "output_type": "execute_result",
          "data": {
            "text/plain": [
              "(21, 12)"
            ]
          },
          "metadata": {},
          "execution_count": 21
        }
      ]
    },
    {
      "cell_type": "markdown",
      "source": [
        "### Results"
      ],
      "metadata": {
        "id": "otZhB3XUZmXx"
      }
    },
    {
      "cell_type": "code",
      "source": [
        "# Best places 1, only purchases (57 countries)\n",
        "BP1['City_(User_location)'].tolist()"
      ],
      "metadata": {
        "colab": {
          "base_uri": "https://localhost:8080/"
        },
        "id": "g8fmzGDXZpxo",
        "outputId": "f972ecef-6e65-4ca4-e726-91962a6ef5fd"
      },
      "execution_count": 22,
      "outputs": [
        {
          "output_type": "execute_result",
          "data": {
            "text/plain": [
              "['Kumily',\n",
              " 'Jalna',\n",
              " 'Satna',\n",
              " 'Shamli',\n",
              " 'Tanda Range',\n",
              " 'Hazaribagh',\n",
              " 'Nilje Gaon',\n",
              " 'Rajahmundry',\n",
              " 'Motihari',\n",
              " 'Jagdalpur',\n",
              " 'Bhagalpur',\n",
              " 'Bhilai',\n",
              " 'Mirzapur',\n",
              " 'Nagaur',\n",
              " 'Purnia',\n",
              " 'Rohtak',\n",
              " 'Tiruppur',\n",
              " 'Udupi',\n",
              " 'Asansol',\n",
              " 'Bhiwani',\n",
              " 'Panchkula',\n",
              " 'Puducherry',\n",
              " 'Hisar',\n",
              " 'Kottayam',\n",
              " 'Kanpur',\n",
              " 'Mira Bhayandar',\n",
              " 'Thane',\n",
              " 'Pimpri-Chinchwad',\n",
              " 'Madurai',\n",
              " 'Udaipur',\n",
              " 'Hyderabad',\n",
              " 'Faridabad',\n",
              " 'Mysuru',\n",
              " 'Ghaziabad',\n",
              " 'Patna',\n",
              " 'Noida',\n",
              " 'Gurgaon',\n",
              " 'Navi Mumbai',\n",
              " 'Ludhiana',\n",
              " 'Bengaluru',\n",
              " 'Chennai',\n",
              " 'Chandigarh',\n",
              " 'Mumbai',\n",
              " 'Kolkata',\n",
              " 'Pune',\n",
              " 'New Delhi',\n",
              " 'Coimbatore',\n",
              " 'Karnal',\n",
              " 'Bhopal',\n",
              " 'Bhubaneswar',\n",
              " 'Varanasi',\n",
              " 'Ahmedabad',\n",
              " 'Delhi',\n",
              " 'Lucknow',\n",
              " 'Indore',\n",
              " 'Jalgaon',\n",
              " 'Jaipur']"
            ]
          },
          "metadata": {},
          "execution_count": 22
        }
      ]
    },
    {
      "cell_type": "code",
      "source": [
        "# Best place 2, Cost and Purchase values for rentability(9 countries)\n",
        "BP2['City_(User_location)'].tolist()"
      ],
      "metadata": {
        "colab": {
          "base_uri": "https://localhost:8080/"
        },
        "id": "_4r32Dg3Zr5c",
        "outputId": "b2f99de7-6972-4f76-f192-664eea3ea3c1"
      },
      "execution_count": 23,
      "outputs": [
        {
          "output_type": "execute_result",
          "data": {
            "text/plain": [
              "['Faridabad',\n",
              " 'Patna',\n",
              " 'Chennai',\n",
              " 'Chandigarh',\n",
              " 'Pune',\n",
              " 'Delhi',\n",
              " 'Lucknow',\n",
              " 'Indore',\n",
              " 'Jaipur']"
            ]
          },
          "metadata": {},
          "execution_count": 23
        }
      ]
    },
    {
      "cell_type": "code",
      "source": [
        "# Best place 3, Cost and Purchase values per lead (21 countries)\n",
        "BP3['City_(User_location)'].tolist()"
      ],
      "metadata": {
        "colab": {
          "base_uri": "https://localhost:8080/"
        },
        "id": "Kyfi79pzfeMh",
        "outputId": "001f4697-312c-4ee1-a613-73383ff86141"
      },
      "execution_count": 24,
      "outputs": [
        {
          "output_type": "execute_result",
          "data": {
            "text/plain": [
              "['Jalna',\n",
              " 'Satna',\n",
              " 'Hazaribagh',\n",
              " 'Bhilai',\n",
              " 'Purnia',\n",
              " 'Rohtak',\n",
              " 'Tiruppur',\n",
              " 'Udupi',\n",
              " 'Asansol',\n",
              " 'Bhiwani',\n",
              " 'Panchkula',\n",
              " 'Hisar',\n",
              " 'Kottayam',\n",
              " 'Faridabad',\n",
              " 'Mysuru',\n",
              " 'Patna',\n",
              " 'Chandigarh',\n",
              " 'Coimbatore',\n",
              " 'Indore',\n",
              " 'Jalgaon',\n",
              " 'Jaipur']"
            ]
          },
          "metadata": {},
          "execution_count": 24
        }
      ]
    },
    {
      "cell_type": "code",
      "source": [
        ""
      ],
      "metadata": {
        "id": "InG6BnnX2qwR"
      },
      "execution_count": 24,
      "outputs": []
    }
  ]
}