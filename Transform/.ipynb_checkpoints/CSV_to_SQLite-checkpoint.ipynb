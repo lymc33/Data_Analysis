{
 "cells": [
  {
   "cell_type": "code",
   "execution_count": 1,
   "id": "3b577c07",
   "metadata": {},
   "outputs": [],
   "source": [
    "### Importaciones"
   ]
  },
  {
   "cell_type": "code",
   "execution_count": 5,
   "id": "50fe2e7e",
   "metadata": {},
   "outputs": [],
   "source": [
    "import pandas as pd\n",
    "import matplotlib.pyplot as plt\n",
    "\n",
    "import sqlite3"
   ]
  },
  {
   "cell_type": "code",
   "execution_count": 3,
   "id": "b7f4d178",
   "metadata": {},
   "outputs": [],
   "source": [
    "### Lectura"
   ]
  },
  {
   "cell_type": "code",
   "execution_count": 4,
   "id": "c708b582",
   "metadata": {},
   "outputs": [],
   "source": [
    "df1990 = pd.read_csv(\"/Users/yairmartinez/Documents/GitHub/INEGI/Extract/DB/df1990.csv\")\n",
    "df1995 = pd.read_csv(\"/Users/yairmartinez/Documents/GitHub/INEGI/Extract/DB/df1995.csv\")\n",
    "df2000 = pd.read_csv(\"/Users/yairmartinez/Documents/GitHub/INEGI/Extract/DB/df2000.csv\")\n",
    "df2005 = pd.read_csv(\"/Users/yairmartinez/Documents/GitHub/INEGI/Extract/DB/df2005.csv\")\n",
    "df2010 = pd.read_csv(\"/Users/yairmartinez/Documents/GitHub/INEGI/Extract/DB/df2010.csv\")\n",
    "df2020 = pd.read_csv(\"/Users/yairmartinez/Documents/GitHub/INEGI/Extract/DB/df2020.csv\")"
   ]
  },
  {
   "cell_type": "code",
   "execution_count": 6,
   "id": "a226f4ed",
   "metadata": {},
   "outputs": [],
   "source": [
    "# SLQLite3\n",
    "# The special path name :memory: can be provided to create a temporary database in RAM.\n",
    "\n",
    "con = sqlite3.connect('inegi.db') #Connection\n",
    "cur = con.cursor() #Cursor"
   ]
  },
  {
   "cell_type": "code",
   "execution_count": null,
   "id": "e8fe18d2",
   "metadata": {},
   "outputs": [],
   "source": []
  }
 ],
 "metadata": {
  "kernelspec": {
   "display_name": "Python 3 (ipykernel)",
   "language": "python",
   "name": "python3"
  },
  "language_info": {
   "codemirror_mode": {
    "name": "ipython",
    "version": 3
   },
   "file_extension": ".py",
   "mimetype": "text/x-python",
   "name": "python",
   "nbconvert_exporter": "python",
   "pygments_lexer": "ipython3",
   "version": "3.9.7"
  }
 },
 "nbformat": 4,
 "nbformat_minor": 5
}
